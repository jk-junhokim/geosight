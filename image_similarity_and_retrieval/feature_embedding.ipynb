{
  "cells": [
    {
      "cell_type": "code",
      "execution_count": null,
      "metadata": {
        "colab": {
          "base_uri": "https://localhost:8080/"
        },
        "collapsed": true,
        "id": "WlJFF2bY4bmQ",
        "outputId": "fc43b816-eacf-47ba-a284-4998c2ad4e10"
      },
      "outputs": [],
      "source": [
        "! pip install dreamsim"
      ]
    },
    {
      "cell_type": "code",
      "execution_count": null,
      "metadata": {
        "colab": {
          "base_uri": "https://localhost:8080/"
        },
        "id": "WlKqjpVh1eCQ",
        "outputId": "3b956634-cbfc-4ae3-b916-4bdc0e3ba022"
      },
      "outputs": [],
      "source": [
        "! mkdir models/\n",
        "! wget -O models/open_clip_vitb32_pretrain.pth.tar https://github.com/ssundaram21/dreamsim/releases/download/v0.1.0/open_clip_vitb32_pretrain.pth.tar"
      ]
    },
    {
      "cell_type": "code",
      "execution_count": null,
      "metadata": {
        "colab": {
          "base_uri": "https://localhost:8080/"
        },
        "id": "tIZAh4cu_hij",
        "outputId": "06ba5dee-2542-4562-fd27-f528479988af"
      },
      "outputs": [],
      "source": [
        "from dreamsim import dreamsim\n",
        "from dreamsim import PerceptualModel\n",
        "\n",
        "import os, sys\n",
        "import torch\n",
        "import matplotlib.pyplot as plt\n",
        "from PIL import Image\n",
        "from tqdm import tqdm\n",
        "import torch.nn.functional as F\n",
        "import pandas as pd\n",
        "import pickle\n",
        "import zipfile\n",
        "import math\n",
        "\n",
        "device = \"cuda\" if torch.cuda.is_available() else \"cpu\"\n",
        "model, preprocess = dreamsim(pretrained=True, device=device)"
      ]
    },
    {
      "cell_type": "markdown",
      "metadata": {
        "id": "mE8Ub5lopQdM"
      },
      "source": [
        "#### Data Extraction"
      ]
    },
    {
      "cell_type": "code",
      "execution_count": null,
      "metadata": {
        "id": "_1qKpz23RL8S"
      },
      "outputs": [],
      "source": [
        "noaa_path = './data/NOAA_FINAL_BUILDING'\n",
        "gsv_path = './data/GSV_FINAL_BUILDING'"
      ]
    },
    {
      "cell_type": "code",
      "execution_count": null,
      "metadata": {},
      "outputs": [],
      "source": [
        "noaa_data_dir = './data/NOAA_FINAL_BUILDING'\n",
        "gsv_data_dir = './data/GSV_FINAL_BUILDING'"
      ]
    },
    {
      "cell_type": "code",
      "execution_count": null,
      "metadata": {
        "colab": {
          "base_uri": "https://localhost:8080/"
        },
        "id": "g8YP96xOSELo",
        "outputId": "e23442a9-f09e-459f-954e-36275a66e711"
      },
      "outputs": [],
      "source": [
        "# List all files in the extraction directory\n",
        "for root, dirs, files in os.walk(noaa_data_dir):\n",
        "    pass\n",
        "print(f'Total files: {len(files)}') # 6555\n",
        "\n",
        "for root, dirs, files in os.walk(gsv_data_dir):\n",
        "    pass\n",
        "print(f'Total files: {len(files)}') # 81"
      ]
    },
    {
      "cell_type": "code",
      "execution_count": null,
      "metadata": {
        "colab": {
          "base_uri": "https://localhost:8080/"
        },
        "id": "aqa5nUmWpKN9",
        "outputId": "99cc15fd-dab4-427e-cd31-73333e22fef4"
      },
      "outputs": [],
      "source": [
        "valid_extensions = ('.jpg', '.jpeg', '.png', '.bmp', '.gif')\n",
        "\n",
        "# Function to clean up non-image files\n",
        "def remove_non_image_files(directory):\n",
        "    removed_files = 0\n",
        "    for root, dirs, files in os.walk(directory):\n",
        "        for file in files:\n",
        "            if not file.lower().endswith(valid_extensions):  # Check if the file is not an image\n",
        "                file_path = os.path.join(root, file)\n",
        "                os.remove(file_path)  # Delete the file\n",
        "                removed_files += 1\n",
        "    print(f'{removed_files} non-image files removed from {directory}')\n",
        "\n",
        "# Remove non-image files from both directories\n",
        "remove_non_image_files(noaa_data_dir)\n",
        "remove_non_image_files(gsv_data_dir)\n",
        "\n",
        "# Count remaining files\n",
        "for root, dirs, files in os.walk(noaa_data_dir):\n",
        "    pass\n",
        "print(f'Total image files in {noaa_data_dir}: {len(files)}')\n",
        "\n",
        "for root, dirs, files in os.walk(gsv_data_dir):\n",
        "    pass\n",
        "print(f'Total image files in {gsv_data_dir}: {len(files)}')"
      ]
    },
    {
      "cell_type": "markdown",
      "metadata": {
        "id": "hg-kuMM0Lqah"
      },
      "source": [
        "#### Image Retrieval"
      ]
    },
    {
      "cell_type": "code",
      "execution_count": null,
      "metadata": {
        "colab": {
          "base_uri": "https://localhost:8080/"
        },
        "id": "oMB2q9-WgVoM",
        "outputId": "45bf2c5e-9b01-4177-edac-8f4d6a018d08"
      },
      "outputs": [],
      "source": [
        "# Load models\n",
        "dreamsim_model = model\n",
        "dino_model = PerceptualModel(feat_type='cls', model_type='dino_vitb16', stride='16', baseline=True, device=\"cuda\")\n",
        "open_clip_model = PerceptualModel(feat_type='embedding', model_type='open_clip_vitb32', stride='32', baseline=True, device=\"cuda\")"
      ]
    },
    {
      "cell_type": "code",
      "execution_count": null,
      "metadata": {
        "colab": {
          "base_uri": "https://localhost:8080/"
        },
        "id": "wfeX9Uel7SnW",
        "outputId": "20e13b41-e242-40ac-b619-63e4890c5cef"
      },
      "outputs": [],
      "source": [
        "# Define datasets\n",
        "noaa_dir = './data/NOAA_FINAL_BUILDING/'\n",
        "gsv_dir = './data/GSV_FINAL_BUILDING'\n",
        "datasets = [\"noaa_dir\", \"gsv_dir\"]\n",
        "\n",
        "# Define embedding function\n",
        "def get_embeddings(model, model_name, data_dir, data_name):\n",
        "    embeddings_dict = {}  # Dictionary to store {image_name: embedding}\n",
        "\n",
        "    for image_name in tqdm(os.listdir(data_dir)):\n",
        "        try:\n",
        "            img_path = os.path.join(data_dir, image_name)\n",
        "            img = Image.open(img_path)\n",
        "            img = preprocess(img).to(device)\n",
        "            embeddings_dict[image_name] = model.embed(img).detach().cpu()\n",
        "        except Exception as e:\n",
        "            print(f\"Error processing image {image_name}: {e}\")\n",
        "\n",
        "    os.makedirs(f\"./embeddings/{data_name}/\", exist_ok=True)\n",
        "\n",
        "    # Save embeddings dictionary as pickle\n",
        "    with open(f\"./embeddings/{data_name}/{model_name}_embeds.pkl\", \"wb\") as f:\n",
        "        pickle.dump(embeddings_dict, f)\n",
        "\n",
        "# Embed images\n",
        "for dataset in datasets:\n",
        "    print(f\"Processing dataset: {dataset}\")\n",
        "    data_dir = globals().get(dataset)\n",
        "    data_name = dataset.split(\"_\")[0]\n",
        "\n",
        "    # Call similarity models\n",
        "    get_embeddings(dreamsim_model, \"dreamsim\", data_dir, data_name)\n",
        "    get_embeddings(dino_model, \"dino\", data_dir, data_name)\n",
        "    get_embeddings(open_clip_model, \"openclip\", data_dir, data_name)"
      ]
    },
    {
      "cell_type": "markdown",
      "metadata": {
        "id": "_Rb8wgt92EF0"
      },
      "source": [
        "#### Load Embeddings"
      ]
    },
    {
      "cell_type": "code",
      "execution_count": null,
      "metadata": {
        "id": "ITvOkuMv2CC4"
      },
      "outputs": [],
      "source": [
        "# NOAA Embeddings\n",
        "with open(\"./embeddings/noaa/dreamsim_embeds.pkl\", \"rb\") as f:\n",
        "    noaa_dreamsim_emb = pickle.load(f)\n",
        "with open(\"./embeddings/noaa/dino_embeds.pkl\", \"rb\") as f:\n",
        "    noaa_dino_emb = pickle.load(f)\n",
        "with open(\"./embeddings/noaa/openclip_embeds.pkl\", \"rb\") as f:\n",
        "    noaa_openclip_emb = pickle.load(f)\n",
        "\n",
        "# GSV Embeddings\n",
        "with open(\"./embeddings/gsv/dreamsim_embeds.pkl\", \"rb\") as f:\n",
        "    gsv_dreamsim_emb = pickle.load(f)\n",
        "with open(\"./embeddings/gsv/dino_embeds.pkl\", \"rb\") as f:\n",
        "    gsv_dino_emb = pickle.load(f)\n",
        "with open(\"./embeddings/gsv/openclip_embeds.pkl\", \"rb\") as f:\n",
        "    gsv_openclip_emb = pickle.load(f)"
      ]
    },
    {
      "cell_type": "code",
      "execution_count": null,
      "metadata": {
        "colab": {
          "base_uri": "https://localhost:8080/",
          "height": 17
        },
        "id": "aPRlnu1d_UPX",
        "outputId": "f1d027e6-593c-4c94-9cc6-75f7f6c1103b"
      },
      "outputs": [],
      "source": [
        "# from google.colab import files\n",
        "\n",
        "# # List of file paths to download\n",
        "# pickle_files = [\n",
        "#     \"/content/noaa/embeddings/dreamsim_embeds.pkl\",\n",
        "#     \"/content/noaa/embeddings/dino_embeds.pkl\",\n",
        "#     \"/content/noaa/embeddings/openclip_embeds.pkl\",\n",
        "#     \"/content/gsv/embeddings/dreamsim_embeds.pkl\",\n",
        "#     \"/content/gsv/embeddings/dino_embeds.pkl\",\n",
        "#     \"/content/gsv/embeddings/openclip_embeds.pkl\"\n",
        "# ]\n",
        "\n",
        "# # Download each file\n",
        "# for file_path in pickle_files:\n",
        "#     files.download(file_path)"
      ]
    },
    {
      "cell_type": "code",
      "execution_count": null,
      "metadata": {
        "id": "3xXGgSKR_RY9"
      },
      "outputs": [],
      "source": [
        "# from google.colab import files\n",
        "\n",
        "# # Upload files\n",
        "# uploaded = files.upload()\n",
        "\n",
        "# # Save to desired directory\n",
        "# for name in uploaded.keys():\n",
        "#     with open(f\"/content/embeddings/{name}\", \"wb\") as f:\n",
        "#         f.write(uploaded[name])"
      ]
    },
    {
      "cell_type": "code",
      "execution_count": null,
      "metadata": {
        "colab": {
          "base_uri": "https://localhost:8080/"
        },
        "id": "su-gNCAz2mka",
        "outputId": "9e75a1fe-8e93-4179-cd98-670f5e08ce5d"
      },
      "outputs": [],
      "source": [
        "for img, emb in noaa_dreamsim_emb.items():\n",
        "  print(img, emb.shape)\n",
        "  break"
      ]
    },
    {
      "cell_type": "code",
      "execution_count": null,
      "metadata": {
        "colab": {
          "base_uri": "https://localhost:8080/"
        },
        "id": "SibPOEbFAdlK",
        "outputId": "0febd1f7-61b2-4c1c-be66-6ff4ce89f666"
      },
      "outputs": [],
      "source": [
        "for img, emb in gsv_dreamsim_emb.items():\n",
        "  print(img, emb.shape)\n",
        "  break"
      ]
    },
    {
      "cell_type": "code",
      "execution_count": null,
      "metadata": {
        "colab": {
          "base_uri": "https://localhost:8080/"
        },
        "id": "jXax7y993wXP",
        "outputId": "7a1cf1d7-8ae4-4153-c750-ce0377316370"
      },
      "outputs": [],
      "source": [
        "for img, emb in gsv_openclip_emb.items():\n",
        "  print(img, emb.shape)\n",
        "  break"
      ]
    },
    {
      "cell_type": "code",
      "execution_count": null,
      "metadata": {
        "colab": {
          "base_uri": "https://localhost:8080/"
        },
        "id": "ZOp-UHyN4aoD",
        "outputId": "485f654e-60db-4f6a-f50f-9ec30889dfa3"
      },
      "outputs": [],
      "source": [
        "print(len(os.listdir(noaa_dir)))\n",
        "print(len(os.listdir(gsv_dir)))"
      ]
    },
    {
      "cell_type": "code",
      "execution_count": null,
      "metadata": {
        "id": "msv3C9ruCOyB"
      },
      "outputs": [],
      "source": [
        "# Define Haversine formula\n",
        "def haversine(lat1, lon1, lat2, lon2):\n",
        "    R = 6371  # Radius of Earth in kilometers\n",
        "    # Convert degrees to radians\n",
        "    lat1, lon1, lat2, lon2 = map(math.radians, [lat1, lon1, lat2, lon2])\n",
        "\n",
        "    # Compute differences\n",
        "    dlat = lat2 - lat1\n",
        "    dlon = lon2 - lon1\n",
        "\n",
        "    # Haversine formula\n",
        "    a = math.sin(dlat / 2) ** 2 + math.cos(lat1) * math.cos(lat2) * math.sin(dlon / 2) ** 2\n",
        "    c = 2 * math.atan2(math.sqrt(a), math.sqrt(1 - a))\n",
        "    distance = R * c  # Distance in kilometers\n",
        "\n",
        "    return distance\n",
        "\n",
        "# Parse coordinates from the image filename\n",
        "def parse_coordinates(image_name):\n",
        "    lat, lon = map(float, image_name.split(\"_\")[:2])\n",
        "    return lat, lon\n",
        "\n",
        "# Find top 5 nearest neighbors within 50m based on similarity and Haversine filter\n",
        "def find_top_neighbors(noaa_embeddings, gsv_embeddings, metric=\"cosine\"):\n",
        "    # Save top similar images\n",
        "    results = {}\n",
        "\n",
        "    # Iterate through NOAA images\n",
        "    for noaa_name, noaa_embed in tqdm(noaa_embeddings.items(), desc=\"Processing NOAA images\"):\n",
        "        # Parse NOAA image coordinates\n",
        "        noaa_lat, noaa_lon = parse_coordinates(noaa_name)\n",
        "\n",
        "        # Store distances and similarities\n",
        "        filtered_candidates = []\n",
        "\n",
        "        for gsv_name, gsv_embed in gsv_embeddings.items():\n",
        "            # Parse GSV image coordinates\n",
        "            gsv_lat, gsv_lon = parse_coordinates(gsv_name)\n",
        "\n",
        "            # Compute Haversine distance\n",
        "            distance = haversine(noaa_lat, noaa_lon, gsv_lat, gsv_lon)\n",
        "\n",
        "            if distance <= 0.05:  # Only consider images within 50m\n",
        "                # Compute similarity (cosine similarity)\n",
        "                if metric == \"cosine\":\n",
        "                    similarity = F.cosine_similarity(noaa_embed, gsv_embed, dim=1).item()\n",
        "                else:\n",
        "                    raise ValueError(f\"Unsupported metric: {metric}\")\n",
        "\n",
        "                filtered_candidates.append((gsv_name, similarity))\n",
        "\n",
        "        # Sort candidates by similarity and take top 5\n",
        "        top_neighbors = sorted(filtered_candidates, key=lambda x: x[1], reverse=True)[:5]\n",
        "\n",
        "        # Save results with key as (noaa_name, num_filtered)\n",
        "        results[(noaa_name, len(filtered_candidates))] = top_neighbors\n",
        "\n",
        "    return results"
      ]
    },
    {
      "cell_type": "code",
      "execution_count": null,
      "metadata": {
        "colab": {
          "base_uri": "https://localhost:8080/"
        },
        "id": "czUpPANA1oJf",
        "outputId": "c626b57c-f50e-4389-f293-2e4619e9a937"
      },
      "outputs": [],
      "source": [
        "# Find neighbors for DreamSim embeddings\n",
        "dreamsim_results = find_top_neighbors(noaa_dreamsim_emb, gsv_dreamsim_emb, metric=\"cosine\")"
      ]
    },
    {
      "cell_type": "code",
      "execution_count": null,
      "metadata": {
        "colab": {
          "base_uri": "https://localhost:8080/"
        },
        "id": "ZyBiiI8T2Qna",
        "outputId": "c65395c8-d08f-4785-abda-4e16ba7c5de0"
      },
      "outputs": [],
      "source": [
        "# Find neighbors for Dino embeddings\n",
        "dino_results = find_top_neighbors(noaa_dino_emb, gsv_dino_emb, metric=\"cosine\")"
      ]
    },
    {
      "cell_type": "code",
      "execution_count": null,
      "metadata": {
        "colab": {
          "base_uri": "https://localhost:8080/"
        },
        "id": "u1jMDP1C30dm",
        "outputId": "29d90bf8-0237-4263-cf32-10c7c78ca709"
      },
      "outputs": [],
      "source": [
        "# Find neighbors for OpenClip embeddings\n",
        "openclip_results = find_top_neighbors(noaa_openclip_emb, gsv_openclip_emb, metric=\"cosine\")"
      ]
    },
    {
      "cell_type": "code",
      "execution_count": null,
      "metadata": {
        "colab": {
          "base_uri": "https://localhost:8080/"
        },
        "id": "y-NycK0d1wP5",
        "outputId": "9ca57423-614d-4da0-f962-82bf791b3128"
      },
      "outputs": [],
      "source": [
        "# Save results\n",
        "os.makedirs(\"./results/\", exist_ok=True)\n",
        "\n",
        "with open(\"./results/dreamsim_results.pkl\", \"wb\") as f:\n",
        "    pickle.dump(dreamsim_results, f)\n",
        "with open(\"./results/dino_results.pkl\", \"wb\") as f:\n",
        "    pickle.dump(dino_results, f)\n",
        "with open(\"./results/openclip_results.pkl\", \"wb\") as f:\n",
        "    pickle.dump(openclip_results, f)\n",
        "\n",
        "print(\"Image retrieval with Haversine filtering completed!\")"
      ]
    },
    {
      "cell_type": "code",
      "execution_count": null,
      "metadata": {
        "colab": {
          "base_uri": "https://localhost:8080/",
          "height": 17
        },
        "id": "tzhJwfgcBLRw",
        "outputId": "4c8fef1d-a1c5-49ba-e29b-2aec4f76d8df"
      },
      "outputs": [],
      "source": [
        "# pickle_files_results = [\n",
        "#     \"/content/dreamsim_results.pkl\",\n",
        "#     \"/content/dino_results.pkl\",\n",
        "#     \"/content/openclip_results.pkl\"\n",
        "# ]\n",
        "\n",
        "# # Download each file\n",
        "# for file_path in pickle_files_results:\n",
        "#     files.download(file_path)"
      ]
    },
    {
      "cell_type": "code",
      "execution_count": null,
      "metadata": {
        "colab": {
          "base_uri": "https://localhost:8080/"
        },
        "id": "2QxEBTeRUzPF",
        "outputId": "33e41aa0-ca73-4221-a3f7-c59179cb0195"
      },
      "outputs": [],
      "source": [
        "print(len(dreamsim_results))\n",
        "print(dreamsim_results)"
      ]
    },
    {
      "cell_type": "code",
      "execution_count": null,
      "metadata": {
        "colab": {
          "base_uri": "https://localhost:8080/"
        },
        "id": "rVt_Yy6YUbni",
        "outputId": "500a9e03-4175-4441-ab80-cbf24158bb0b"
      },
      "outputs": [],
      "source": [
        "print(len(dino_results))\n",
        "print(dino_results)"
      ]
    },
    {
      "cell_type": "code",
      "execution_count": null,
      "metadata": {
        "colab": {
          "base_uri": "https://localhost:8080/"
        },
        "id": "qJ9yDd894EPU",
        "outputId": "7f44ee16-6cec-4a40-d814-30986256e412"
      },
      "outputs": [],
      "source": [
        "print(len(openclip_results))\n",
        "print(openclip_results)"
      ]
    },
    {
      "cell_type": "code",
      "execution_count": null,
      "metadata": {
        "id": "-8zAAPo1JPTw"
      },
      "outputs": [],
      "source": [
        "import gc\n",
        "gc.collect()"
      ]
    }
  ],
  "metadata": {
    "colab": {
      "gpuType": "T4",
      "provenance": []
    },
    "kernelspec": {
      "display_name": "sony_project",
      "language": "python",
      "name": "python3"
    },
    "language_info": {
      "codemirror_mode": {
        "name": "ipython",
        "version": 3
      },
      "file_extension": ".py",
      "mimetype": "text/x-python",
      "name": "python",
      "nbconvert_exporter": "python",
      "pygments_lexer": "ipython3",
      "version": "3.8.18"
    }
  },
  "nbformat": 4,
  "nbformat_minor": 0
}
