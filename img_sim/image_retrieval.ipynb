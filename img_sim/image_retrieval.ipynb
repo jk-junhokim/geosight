{
 "cells": [
  {
   "cell_type": "markdown",
   "metadata": {
    "id": "PlgWD8SJRyPk"
   },
   "source": [
    "## Load Google Colab"
   ]
  },
  {
   "cell_type": "code",
   "execution_count": null,
   "metadata": {
    "colab": {
     "base_uri": "https://localhost:8080/"
    },
    "executionInfo": {
     "elapsed": 59062,
     "status": "ok",
     "timestamp": 1737678156945,
     "user": {
      "displayName": "Junho Kim",
      "userId": "13021239795140086503"
     },
     "user_tz": 360
    },
    "id": "lExBynNaRw6c",
    "outputId": "cff3a6ba-1d43-4b53-a04c-6f9c6b12d818"
   },
   "outputs": [],
   "source": [
    "# from google.colab import drive\n",
    "# drive.mount('/content/drive')"
   ]
  },
  {
   "cell_type": "markdown",
   "metadata": {
    "id": "b3jXeuIvUrRE"
   },
   "source": [
    "## Load Imports"
   ]
  },
  {
   "cell_type": "code",
   "execution_count": 2,
   "metadata": {
    "executionInfo": {
     "elapsed": 795,
     "status": "ok",
     "timestamp": 1737678167346,
     "user": {
      "displayName": "Junho Kim",
      "userId": "13021239795140086503"
     },
     "user_tz": 360
    },
    "id": "LgbtligJTvqw"
   },
   "outputs": [],
   "source": [
    "import os, sys\n",
    "import matplotlib.pyplot as plt\n",
    "from PIL import Image\n",
    "from tqdm import tqdm\n",
    "import pandas as pd\n",
    "import pickle\n",
    "import zipfile\n",
    "import math"
   ]
  },
  {
   "cell_type": "markdown",
   "metadata": {
    "id": "D-wHiszTQDQD"
   },
   "source": [
    "## Load Similarity Results"
   ]
  },
  {
   "cell_type": "code",
   "execution_count": null,
   "metadata": {
    "colab": {
     "base_uri": "https://localhost:8080/"
    },
    "executionInfo": {
     "elapsed": 4935,
     "status": "ok",
     "timestamp": 1737678207631,
     "user": {
      "displayName": "Junho Kim",
      "userId": "13021239795140086503"
     },
     "user_tz": 360
    },
    "id": "PZ4zvWDOP1RU",
    "outputId": "69fe90d4-89a6-420a-a5df-57ef905e7e35"
   },
   "outputs": [],
   "source": [
    "dreamsim_result = './results/dreamsim_results.pkl'\n",
    "dino_result = './results/dino_results.pkl'\n",
    "openclip_result = './results/openclip_results.pkl'\n",
    "\n",
    "# Loading the pickle files\n",
    "with open(dreamsim_result, 'rb') as file:\n",
    "    dreamsim_results = pickle.load(file)\n",
    "\n",
    "with open(dino_result, 'rb') as file:\n",
    "    dino_results = pickle.load(file)\n",
    "\n",
    "with open(openclip_result, 'rb') as file:\n",
    "    openclip_results = pickle.load(file)\n",
    "\n",
    "# Verifying the loaded data\n",
    "print(\"DreamSim Results:\", type(dreamsim_results))\n",
    "print(\"DINO Results:\", type(dino_results))\n",
    "print(\"OpenCLIP Results:\", type(openclip_results))"
   ]
  },
  {
   "cell_type": "markdown",
   "metadata": {
    "id": "uFuJqtJeQbI1"
   },
   "source": [
    "## Load Images"
   ]
  },
  {
   "cell_type": "code",
   "execution_count": 4,
   "metadata": {
    "executionInfo": {
     "elapsed": 232,
     "status": "ok",
     "timestamp": 1737678210769,
     "user": {
      "displayName": "Junho Kim",
      "userId": "13021239795140086503"
     },
     "user_tz": 360
    },
    "id": "sITqPffDQcht"
   },
   "outputs": [],
   "source": [
    "noaa_path = './data/NOAA_FINAL_BUILDING'\n",
    "gsv_path = './data/GSV_FINAL_BUILDING'"
   ]
  },
  {
   "cell_type": "code",
   "execution_count": null,
   "metadata": {
    "colab": {
     "base_uri": "https://localhost:8080/"
    },
    "executionInfo": {
     "elapsed": 19546,
     "status": "ok",
     "timestamp": 1737678231544,
     "user": {
      "displayName": "Junho Kim",
      "userId": "13021239795140086503"
     },
     "user_tz": 360
    },
    "id": "xQXAJ_UqQej6",
    "outputId": "ea5f5558-d69e-4ee4-f67e-ed63ff0e8ed7"
   },
   "outputs": [],
   "source": [
    "# # Define the extraction directory\n",
    "# noaa_data_dir = '/content/noaa_original_images'\n",
    "# gsv_data_dir = '/content/gsv_original_images'\n",
    "\n",
    "# # Unzip the file\n",
    "# with zipfile.ZipFile(noaa_path, 'r') as zip_ref:\n",
    "#     zip_ref.extractall(noaa_data_dir)\n",
    "# print(f'Files extracted to: {noaa_data_dir}')\n",
    "\n",
    "# with zipfile.ZipFile(gsv_path, 'r') as zip_ref:\n",
    "#     zip_ref.extractall(gsv_data_dir)\n",
    "# print(f'Files extracted to: {gsv_data_dir}')"
   ]
  },
  {
   "cell_type": "code",
   "execution_count": 5,
   "metadata": {},
   "outputs": [],
   "source": [
    "noaa_data_dir = './data/NOAA_FINAL_BUILDING'\n",
    "gsv_data_dir = './data/GSV_FINAL_BUILDING'"
   ]
  },
  {
   "cell_type": "code",
   "execution_count": null,
   "metadata": {
    "colab": {
     "base_uri": "https://localhost:8080/"
    },
    "executionInfo": {
     "elapsed": 241,
     "status": "ok",
     "timestamp": 1737678333896,
     "user": {
      "displayName": "Junho Kim",
      "userId": "13021239795140086503"
     },
     "user_tz": 360
    },
    "id": "lJ5bFyuxT9no",
    "outputId": "a6b33eac-3a25-429d-a19d-bca2f5557aec"
   },
   "outputs": [],
   "source": [
    "# List all files in the extraction directory\n",
    "for root, dirs, files in os.walk(noaa_data_dir):\n",
    "    pass\n",
    "print(f'Total files: {len(files)}') # 6555\n",
    "\n",
    "for root, dirs, files in os.walk(gsv_data_dir):\n",
    "    pass\n",
    "print(f'Total files: {len(files)}') # 81"
   ]
  },
  {
   "cell_type": "code",
   "execution_count": null,
   "metadata": {
    "colab": {
     "base_uri": "https://localhost:8080/"
    },
    "executionInfo": {
     "elapsed": 246,
     "status": "ok",
     "timestamp": 1737678335896,
     "user": {
      "displayName": "Junho Kim",
      "userId": "13021239795140086503"
     },
     "user_tz": 360
    },
    "id": "za1DO4BBUDxL",
    "outputId": "ed334802-72d4-4c9e-b70d-8ef0781f1a50"
   },
   "outputs": [],
   "source": [
    "valid_extensions = ('.jpg', '.jpeg', '.png', '.bmp', '.gif')\n",
    "\n",
    "# Function to clean up non-image files\n",
    "def remove_non_image_files(directory):\n",
    "    removed_files = 0\n",
    "    for root, dirs, files in os.walk(directory):\n",
    "        for file in files:\n",
    "            if not file.lower().endswith(valid_extensions):  # Check if the file is not an image\n",
    "                file_path = os.path.join(root, file)\n",
    "                os.remove(file_path)  # Delete the file\n",
    "                removed_files += 1\n",
    "    print(f'{removed_files} non-image files removed from {directory}')\n",
    "\n",
    "# Remove non-image files from both directories\n",
    "remove_non_image_files(noaa_data_dir)\n",
    "remove_non_image_files(gsv_data_dir)\n",
    "\n",
    "# Count remaining files\n",
    "for root, dirs, files in os.walk(noaa_data_dir):\n",
    "    pass\n",
    "print(f'Total image files in {noaa_data_dir}: {len(files)}')\n",
    "\n",
    "for root, dirs, files in os.walk(gsv_data_dir):\n",
    "    pass\n",
    "print(f'Total image files in {gsv_data_dir}: {len(files)}')"
   ]
  },
  {
   "cell_type": "markdown",
   "metadata": {
    "id": "ThnOm8LoQAfI"
   },
   "source": [
    "## Sanity Check"
   ]
  },
  {
   "cell_type": "code",
   "execution_count": null,
   "metadata": {
    "colab": {
     "base_uri": "https://localhost:8080/"
    },
    "executionInfo": {
     "elapsed": 400,
     "status": "ok",
     "timestamp": 1737678338595,
     "user": {
      "displayName": "Junho Kim",
      "userId": "13021239795140086503"
     },
     "user_tz": 360
    },
    "id": "UeZAkgvuPrQ5",
    "outputId": "de0b78dd-bc69-4164-9dc5-371892f5b9e7"
   },
   "outputs": [],
   "source": [
    "print(len(dreamsim_results))\n",
    "print(dreamsim_results)"
   ]
  },
  {
   "cell_type": "code",
   "execution_count": null,
   "metadata": {
    "colab": {
     "base_uri": "https://localhost:8080/"
    },
    "executionInfo": {
     "elapsed": 1,
     "status": "ok",
     "timestamp": 1737678339285,
     "user": {
      "displayName": "Junho Kim",
      "userId": "13021239795140086503"
     },
     "user_tz": 360
    },
    "id": "eI4dGHtEP_ag",
    "outputId": "31193201-5dda-4931-984f-1913d26bd3a6"
   },
   "outputs": [],
   "source": [
    "print(len(dino_results))\n",
    "print(dino_results)"
   ]
  },
  {
   "cell_type": "code",
   "execution_count": null,
   "metadata": {
    "colab": {
     "base_uri": "https://localhost:8080/"
    },
    "executionInfo": {
     "elapsed": 227,
     "status": "ok",
     "timestamp": 1737678340492,
     "user": {
      "displayName": "Junho Kim",
      "userId": "13021239795140086503"
     },
     "user_tz": 360
    },
    "id": "HXtkCFrtP_8g",
    "outputId": "27499894-5ae7-40a6-c6bc-7455b6a753a3"
   },
   "outputs": [],
   "source": [
    "print(len(openclip_results))\n",
    "print(openclip_results)"
   ]
  },
  {
   "cell_type": "markdown",
   "metadata": {
    "id": "ChpjUwnyQJQc"
   },
   "source": [
    "## Visualization"
   ]
  },
  {
   "cell_type": "code",
   "execution_count": 11,
   "metadata": {
    "executionInfo": {
     "elapsed": 1,
     "status": "ok",
     "timestamp": 1737678341368,
     "user": {
      "displayName": "Junho Kim",
      "userId": "13021239795140086503"
     },
     "user_tz": 360
    },
    "id": "1MWgol-mQKqg"
   },
   "outputs": [],
   "source": [
    "def visualize_results(results, noaa_dir, gsv_dir, title=\"Results Visualization\"):\n",
    "    \"\"\"\n",
    "    Visualize query images and their top similar images in a grid format.\n",
    "\n",
    "    Args:\n",
    "        results (dict): A dictionary where keys are tuples (query_name, num_filtered),\n",
    "                        and values are lists of tuples (similar_image_name, similarity_score).\n",
    "        noaa_dir (str): Path to the root directory containing NOAA images.\n",
    "        gsv_dir (str): Path to the root directory containing GSV images.\n",
    "        title (str): Title for the visualization (optional).\n",
    "    \"\"\"\n",
    "    # Number of columns (6: Query Image + 5 similar images)\n",
    "    n_cols = 6\n",
    "\n",
    "    # Create a figure\n",
    "    fig, axes = plt.subplots(len(results) + 1, n_cols, figsize=(25, len(results) * 3))\n",
    "\n",
    "    # Define labels for the first row\n",
    "    labels = [\"Query\"] + [f\"Similar {i}\" for i in range(1, 6)]\n",
    "    for col, label in enumerate(labels):\n",
    "        axes[0, col].text(0.5, 0.5, label, ha='center', va='center', fontsize=12, fontweight='bold')\n",
    "        axes[0, col].axis('off')\n",
    "\n",
    "    # Process each NOAA image and its results\n",
    "    for row_idx, ((noaa_name, num_filtered), top_neighbors) in enumerate(results.items(), start=1):\n",
    "        # Query image\n",
    "        noaa_path = os.path.join(noaa_dir, noaa_name)\n",
    "        if os.path.exists(noaa_path):\n",
    "            query_img = Image.open(noaa_path)\n",
    "            axes[row_idx, 0].imshow(query_img)\n",
    "            axes[row_idx, 0].axis('off')\n",
    "            # Display query image name and number of filtered images below\n",
    "            axes[row_idx, 0].text(\n",
    "                0.5, -0.1, f\"{noaa_name}\\nFiltered: {num_filtered}\",\n",
    "                ha='center', va='top', transform=axes[row_idx, 0].transAxes, fontsize=9\n",
    "            )\n",
    "        else:\n",
    "            axes[row_idx, 0].text(0.5, 0.5, \"Not Found\", ha='center', va='center', fontsize=8)\n",
    "            axes[row_idx, 0].axis('off')\n",
    "\n",
    "        # Top 5 similar images\n",
    "        for col_idx, (gsv_name, similarity) in enumerate(top_neighbors[:5], start=1):\n",
    "            gsv_path = os.path.join(gsv_dir, gsv_name)\n",
    "            if os.path.exists(gsv_path):\n",
    "                similar_img = Image.open(gsv_path)\n",
    "                axes[row_idx, col_idx].imshow(similar_img)\n",
    "                axes[row_idx, col_idx].axis('off')\n",
    "                # Display image name and similarity score below the image\n",
    "                axes[row_idx, col_idx].text(\n",
    "                    0.5, -0.1, f\"{gsv_name}\\nSim: {similarity:.2f}\",\n",
    "                    ha='center', va='top', transform=axes[row_idx, col_idx].transAxes, fontsize=9\n",
    "                )\n",
    "            else:\n",
    "                axes[row_idx, col_idx].text(0.5, 0.5, \"Not Found\", ha='center', va='center', fontsize=8)\n",
    "                axes[row_idx, col_idx].axis('off')\n",
    "\n",
    "    # Adjust layout and spacing\n",
    "    plt.suptitle(title, fontsize=16, fontweight='bold')\n",
    "    plt.tight_layout()\n",
    "    plt.subplots_adjust(wspace=0.2, hspace=0.2)\n",
    "    plt.show()"
   ]
  },
  {
   "cell_type": "markdown",
   "metadata": {
    "id": "aswqv7XITUey"
   },
   "source": [
    "## Visualize DreamSim"
   ]
  },
  {
   "cell_type": "code",
   "execution_count": 12,
   "metadata": {},
   "outputs": [],
   "source": [
    "noaa_data_dir = './data/NOAA_FINAL_BUILDING'\n",
    "gsv_data_dir = './data/GSV_FINAL_BUILDING'"
   ]
  },
  {
   "cell_type": "code",
   "execution_count": null,
   "metadata": {
    "id": "Dk-G4PsRTWML"
   },
   "outputs": [],
   "source": [
    "# visualize_results(\n",
    "#     results=dreamsim_results,\n",
    "#     noaa_dir='/content/noaa_original_images/NOAA_final/',\n",
    "#     gsv_dir='/content/gsv_original_images/GSV_final/',\n",
    "#     title=\"DreamSim Results Visualization\"\n",
    "# )\n",
    "\n",
    "visualize_results(\n",
    "    results=dreamsim_results,\n",
    "    noaa_dir=noaa_data_dir,\n",
    "    gsv_dir=gsv_data_dir,\n",
    "    title=\"DreamSim Results Visualization\"\n",
    ")"
   ]
  },
  {
   "cell_type": "markdown",
   "metadata": {
    "id": "hHCcl04lQM1N"
   },
   "source": [
    "## Visualize DINO"
   ]
  },
  {
   "cell_type": "code",
   "execution_count": null,
   "metadata": {},
   "outputs": [],
   "source": [
    "visualize_results(\n",
    "    results=dino_results,\n",
    "    noaa_dir=noaa_data_dir,\n",
    "    gsv_dir=gsv_data_dir,\n",
    "    title=\"DINO Results Visualization\"\n",
    ")"
   ]
  },
  {
   "cell_type": "markdown",
   "metadata": {
    "id": "3ukAI2wrQmcg"
   },
   "source": [
    "## Visualize OpenClip"
   ]
  },
  {
   "cell_type": "code",
   "execution_count": null,
   "metadata": {
    "executionInfo": {
     "elapsed": 195150,
     "status": "ok",
     "timestamp": 1737678946875,
     "user": {
      "displayName": "Junho Kim",
      "userId": "13021239795140086503"
     },
     "user_tz": 360
    },
    "id": "B4hgFnG5QpyI"
   },
   "outputs": [],
   "source": [
    "visualize_results(\n",
    "    results=openclip_results,\n",
    "    noaa_dir=noaa_data_dir,\n",
    "    gsv_dir=gsv_data_dir,\n",
    "    title=\"OpenClip Results Visualization\"\n",
    ")"
   ]
  }
 ],
 "metadata": {
  "colab": {
   "authorship_tag": "ABX9TyOvd8OBCbUbo8Gs0MJnNzSr",
   "provenance": []
  },
  "kernelspec": {
   "display_name": "sony_project",
   "language": "python",
   "name": "python3"
  },
  "language_info": {
   "codemirror_mode": {
    "name": "ipython",
    "version": 3
   },
   "file_extension": ".py",
   "mimetype": "text/x-python",
   "name": "python",
   "nbconvert_exporter": "python",
   "pygments_lexer": "ipython3",
   "version": "3.8.18"
  }
 },
 "nbformat": 4,
 "nbformat_minor": 0
}
